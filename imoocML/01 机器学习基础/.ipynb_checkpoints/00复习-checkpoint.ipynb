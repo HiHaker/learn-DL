{
 "cells": [
  {
   "cell_type": "code",
   "execution_count": 1,
   "metadata": {},
   "outputs": [],
   "source": [
    "import random"
   ]
  },
  {
   "cell_type": "code",
   "execution_count": 28,
   "metadata": {},
   "outputs": [
    {
     "name": "stdout",
     "output_type": "stream",
     "text": [
      "Wall time: 60.9 ms\n"
     ]
    }
   ],
   "source": [
    "%%time\n",
    "L = [random.randint(0,9) for i in range(1000)]\n",
    "for i in range(len(L)):\n",
    "    min_index = i\n",
    "#     print('i={}, L={}'.format(i, L))\n",
    "    for j in range(i+1,len(L)):\n",
    "        if L[j] < L[min_index]:\n",
    "            L[min_index], L[j] = L[j], L[min_index]\n",
    "#             min_index = j\n",
    "#     print('min={}, L={}'.format(L[min_index], L))\n",
    "# print(L)"
   ]
  },
  {
   "cell_type": "code",
   "execution_count": 56,
   "metadata": {},
   "outputs": [],
   "source": [
    "def mergesort(L):\n",
    "    if len(L) == 2:\n",
    "        if L[0] > L[1]:\n",
    "            L[0], L[1] = L[1], L[0]\n",
    "        return L\n",
    "    elif len(L) == 1:\n",
    "        return L\n",
    "    else:\n",
    "        L_left = L[:int(len(L)/2)]\n",
    "        L_left = mergesort(L_left)\n",
    "        print(L_left)\n",
    "        L_right = L[int(len(L)/2):]\n",
    "        L_right = mergesort(L_right)\n",
    "#         print(L_right)\n",
    "        L_new = []\n",
    "        left_ind = 0\n",
    "        right_ind = 0\n",
    "\n",
    "        while(left_ind < len(L_left)-1 and right_ind < len(L_right)-1):\n",
    "            if L_left[left_ind] >= L_right[right_ind]:\n",
    "                L_new.append(L_right[right_ind])\n",
    "                right_ind += 1\n",
    "            else:\n",
    "                L_new.append(L_left[left_ind])\n",
    "                left_ind += 1\n",
    "        \n",
    "        if left_ind >= len(L_left):\n",
    "            for i in range(right_ind, len(L_right)):\n",
    "                L_new.append(L_right[i])\n",
    "        else:\n",
    "            for i in range(left_ind, len(L_left)):\n",
    "                L_new.append(L_left[i])\n",
    "        return L_new"
   ]
  },
  {
   "cell_type": "code",
   "execution_count": 57,
   "metadata": {},
   "outputs": [
    {
     "name": "stdout",
     "output_type": "stream",
     "text": [
      "[3]\n",
      "[1, 2]\n"
     ]
    },
    {
     "data": {
      "text/plain": [
       "[3]"
      ]
     },
     "execution_count": 57,
     "metadata": {},
     "output_type": "execute_result"
    }
   ],
   "source": [
    "# L = [random.randint(0,9) for i in range(10)]\n",
    "# print(L)\n",
    "A = [3,2,1]\n",
    "A = mergesort(A)\n",
    "A"
   ]
  },
  {
   "cell_type": "code",
   "execution_count": null,
   "metadata": {},
   "outputs": [],
   "source": []
  }
 ],
 "metadata": {
  "kernelspec": {
   "display_name": "Python 3",
   "language": "python",
   "name": "python3"
  },
  "language_info": {
   "codemirror_mode": {
    "name": "ipython",
    "version": 3
   },
   "file_extension": ".py",
   "mimetype": "text/x-python",
   "name": "python",
   "nbconvert_exporter": "python",
   "pygments_lexer": "ipython3",
   "version": "3.6.7"
  }
 },
 "nbformat": 4,
 "nbformat_minor": 2
}
