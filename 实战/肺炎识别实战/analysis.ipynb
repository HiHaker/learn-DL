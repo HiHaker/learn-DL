{
 "cells": [
  {
   "cell_type": "code",
   "execution_count": 2,
   "outputs": [],
   "source": [
    "# 检查图片是否是灰度图像\n",
    "from PIL import Image\n",
    "# print(len(Image.open(\"测试图片（病毒性肺炎）.jpeg\").split()))"
   ],
   "metadata": {
    "collapsed": false,
    "pycharm": {
     "name": "#%%\n",
     "is_executing": false
    }
   }
  },
  {
   "cell_type": "code",
   "execution_count": 4,
   "outputs": [
    {
     "name": "stdout",
     "text": [
      "1327.880806010929\n",
      "970.6890368852459\n"
     ],
     "output_type": "stream"
    }
   ],
   "source": [
    "# 统计数据集中的图片的尺寸信息\n",
    "import os\n",
    "data_path = \"D:/Program Project/数据集/chest_xray\"\n",
    "count = 0\n",
    "total_w = 0\n",
    "total_h = 0\n",
    "for path1 in os.listdir(data_path):\n",
    "    # print(data_path+'/'+path)\n",
    "    for path2 in os.listdir(data_path+'/'+path1):\n",
    "        # print(data_path+'/'+path1+'/'+path2)\n",
    "        for i in os.listdir(data_path+'/'+path1+'/'+path2):\n",
    "            # print(Image.open(data_path+'/'+path1+'/'+path2+'/'+i).size)\n",
    "            # 计算数据集中图片的平均长和宽，最大长和最大宽\n",
    "            width, height = Image.open(data_path+'/'+path1+'/'+path2+'/'+i).size\n",
    "            total_w += width\n",
    "            total_h += height\n",
    "            count = count + 1\n",
    "\n",
    "average_width = total_w/count\n",
    "average_height = total_h/count\n",
    "print(average_width)\n",
    "print(average_height)"
   ],
   "metadata": {
    "collapsed": false,
    "pycharm": {
     "name": "#%%\n",
     "is_executing": false
    }
   }
  }
 ],
 "metadata": {
  "kernelspec": {
   "name": "pycharm-2bf9cf7b",
   "language": "python",
   "display_name": "PyCharm (mooc-deeplearning)"
  },
  "language_info": {
   "codemirror_mode": {
    "name": "ipython",
    "version": 2
   },
   "file_extension": ".py",
   "mimetype": "text/x-python",
   "name": "python",
   "nbconvert_exporter": "python",
   "pygments_lexer": "ipython2",
   "version": "2.7.6"
  },
  "pycharm": {
   "stem_cell": {
    "cell_type": "raw",
    "source": [],
    "metadata": {
     "collapsed": false
    }
   }
  }
 },
 "nbformat": 4,
 "nbformat_minor": 0
}