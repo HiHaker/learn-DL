{
 "cells": [
  {
   "cell_type": "code",
   "execution_count": 3,
   "outputs": [],
   "source": [
    "import numpy as np\n",
    "import copy"
   ],
   "metadata": {
    "collapsed": false,
    "pycharm": {
     "name": "#%%\n",
     "is_executing": false
    }
   }
  },
  {
   "cell_type": "code",
   "execution_count": 6,
   "outputs": [
    {
     "name": "stdout",
     "text": [
      "(6048, 512)\n"
     ],
     "output_type": "stream"
    }
   ],
   "source": [
    "fs3 = np.load('D:\\\\Program Project\\\\python\\\\mooc-deeplearning\\\\实战\\\\项目代码调试\\\\styleCLIP\\\\fs3.npy')\n",
    "print(fs3.shape)"
   ],
   "metadata": {
    "collapsed": false,
    "pycharm": {
     "name": "#%%\n",
     "is_executing": false
    }
   }
  },
  {
   "cell_type": "code",
   "execution_count": null,
   "outputs": [],
   "source": [
    "# def SplitS(ds_p,M,if_std):\n",
    "#     all_ds=[]\n",
    "#     start=0\n",
    "#     for i in M.mindexs:\n",
    "#         tmp=M.dlatents[i].shape[1]\n",
    "#         end=start+tmp\n",
    "#         tmp=ds_p[start:end]\n",
    "# #        tmp=tmp*M.code_std[i]\n",
    "#         \n",
    "#         all_ds.append(tmp)\n",
    "#         start=end\n",
    "#     \n",
    "#     all_ds2=[]\n",
    "#     tmp_index=0\n",
    "#     for i in range(len(M.s_names)):\n",
    "#         if (not 'RGB' in M.s_names[i]) and (not len(all_ds[tmp_index])==0):\n",
    "#             \n",
    "# #            tmp=np.abs(all_ds[tmp_index]/M.code_std[i])\n",
    "# #            print(i,tmp.mean())\n",
    "# #            tmp=np.dot(M.latent_codes[i],all_ds[tmp_index])\n",
    "# #            print(tmp)\n",
    "#             if if_std:\n",
    "#                 tmp=all_ds[tmp_index]*M.code_std[i]\n",
    "#             else:\n",
    "#                 tmp=all_ds[tmp_index]\n",
    "#             \n",
    "#             all_ds2.append(tmp)\n",
    "#             tmp_index+=1\n",
    "#         else:\n",
    "#             tmp=np.zeros(len(M.dlatents[i][0]))\n",
    "#             all_ds2.append(tmp)\n",
    "#     return all_ds2"
   ],
   "metadata": {
    "collapsed": false,
    "pycharm": {
     "name": "#%%\n"
    }
   }
  },
  {
   "cell_type": "code",
   "execution_count": null,
   "outputs": [],
   "source": [
    "# def GetDt(classnames,model):\n",
    "#     text_features=zeroshot_classifier(classnames, imagenet_templates,model).t()\n",
    "#     \n",
    "#     dt=text_features[0]-text_features[1]\n",
    "#     dt=dt.cpu().numpy()\n",
    "#     \n",
    "# #    t_m1=t_m/np.linalg.norm(t_m)\n",
    "# #    dt=text_features.cpu().numpy()[0]-t_m1\n",
    "#     print(np.linalg.norm(dt))\n",
    "#     dt=dt/np.linalg.norm(dt)\n",
    "#     return dt"
   ],
   "metadata": {
    "collapsed": false,
    "pycharm": {
     "name": "#%%\n"
    }
   }
  },
  {
   "cell_type": "code",
   "execution_count": null,
   "metadata": {
    "collapsed": true
   },
   "outputs": [],
   "source": [
    "# def GetBoundary(fs3,dt,M,threshold):\n",
    "#     tmp=np.dot(fs3,dt)\n",
    "#     \n",
    "#     ds_imp=copy.copy(tmp)\n",
    "#     select=np.abs(tmp)<threshold\n",
    "#     num_c=np.sum(~select)\n",
    "# \n",
    "# \n",
    "#     ds_imp[select]=0\n",
    "#     tmp=np.abs(ds_imp).max()\n",
    "#     ds_imp/=tmp\n",
    "#     \n",
    "#     boundary_tmp2=SplitS(ds_imp,M,if_std=True)\n",
    "#     print('num of channels being manipulated:',num_c)\n",
    "#     return boundary_tmp2,num_c\n"
   ]
  }
 ],
 "metadata": {
  "kernelspec": {
   "display_name": "Python 3",
   "language": "python",
   "name": "python3"
  },
  "language_info": {
   "codemirror_mode": {
    "name": "ipython",
    "version": 2
   },
   "file_extension": ".py",
   "mimetype": "text/x-python",
   "name": "python",
   "nbconvert_exporter": "python",
   "pygments_lexer": "ipython2",
   "version": "2.7.6"
  },
  "pycharm": {
   "stem_cell": {
    "cell_type": "raw",
    "source": [],
    "metadata": {
     "collapsed": false
    }
   }
  }
 },
 "nbformat": 4,
 "nbformat_minor": 0
}